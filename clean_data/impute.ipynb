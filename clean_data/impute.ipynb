{
 "cells": [
  {
   "cell_type": "code",
   "execution_count": 131,
   "id": "entire-limitation",
   "metadata": {},
   "outputs": [],
   "source": [
    "import pandas as pd\n",
    "import numpy as np\n",
    "import matplotlib.pyplot as plt\n",
    "import scipy\n",
    "import plotly.express as px\n",
    "import plotly\n",
    "import os\n",
    "import sys\n",
    "import seaborn as sns\n",
    "import sklearn as sk\n",
    "import miceforest as mf\n",
    "\n",
    "pd.set_option('max_columns', 999)\n",
    "pd.set_option('max_rows', 20)\n",
    "cwd = os.getcwd()"
   ]
  },
  {
   "cell_type": "code",
   "execution_count": 3,
   "id": "controlled-bennett",
   "metadata": {},
   "outputs": [],
   "source": [
    "# load original dataframe with NaNs in oplnivma and oplnivpa and stats\n",
    "df = pd.read_csv(cwd + \"/../output/out.csv\", index_col=0)\n",
    "print(df.head())\n",
    "df_stats= pd.read_csv(cwd + \"/../output/df_stats.csv\", index_col=0)\n",
    "print(df_stats.head())"
   ]
  },
  {
   "cell_type": "code",
   "execution_count": 4,
   "id": "endangered-louisiana",
   "metadata": {},
   "outputs": [
    {
     "name": "stdout",
     "output_type": "stream",
     "text": [
      "GENDER              0\n",
      "ETHN                0\n",
      "WPOTAALLV           0\n",
      "WPOTAALTV           0\n",
      "ADV_TEACH           0\n",
      "ADV_TEST            0\n",
      "ADV_FINAL           0\n",
      "LEVEL3              0\n",
      "WOZ                 0\n",
      "PERCBESTINKO        0\n",
      "OPLNIVMA        51458\n",
      "OPLNIVPA        66973\n",
      "SECMMA              0\n",
      "SECMPA              0\n",
      "dtype: int64\n",
      "(297035, 14)\n"
     ]
    }
   ],
   "source": [
    "print(df.isna().sum())\n",
    "print(df.shape)"
   ]
  },
  {
   "cell_type": "code",
   "execution_count": 5,
   "id": "female-colombia",
   "metadata": {},
   "outputs": [
    {
     "name": "stdout",
     "output_type": "stream",
     "text": [
      "0    178604\n",
      "1    118431\n",
      "dtype: int64\n"
     ]
    }
   ],
   "source": [
    "print(df.loc[:, ['OPLNIVMA', 'OPLNIVPA']].isna().sum(axis=1).value_counts())"
   ]
  },
  {
   "cell_type": "code",
   "execution_count": 6,
   "id": "discrete-heart",
   "metadata": {},
   "outputs": [
    {
     "name": "stdout",
     "output_type": "stream",
     "text": [
      "OPLNIVMA    0.173239\n",
      "dtype: float64\n",
      "OPLNIVPA    0.225472\n",
      "dtype: float64\n",
      "0.39871100000000004\n"
     ]
    }
   ],
   "source": [
    "print(df.loc[:, ['OPLNIVMA']].isna().sum()/df.shape[0])\n",
    "print(df.loc[:, ['OPLNIVPA']].isna().sum()/df.shape[0])\n",
    "print(0.173239 + 0.225472)"
   ]
  },
  {
   "cell_type": "code",
   "execution_count": 7,
   "id": "appropriate-segment",
   "metadata": {},
   "outputs": [],
   "source": [
    "df_clean_2 = df.copy()"
   ]
  },
  {
   "cell_type": "code",
   "execution_count": 8,
   "id": "spiritual-carrier",
   "metadata": {},
   "outputs": [],
   "source": [
    "df_clean_2 = df_clean_2.astype({'OPLNIVMA': 'category', 'OPLNIVPA' : 'category', 'SECMMA': 'category', 'SECMPA': 'category', 'GENDER' : 'category', 'ETHN' : 'category', 'WPOTAALLV' : 'category', 'WPOTAALTV' : 'category', 'ADV_TEACH' : 'category', 'ADV_TEST' : 'category', 'ADV_FINAL' : 'category', 'LEVEL3' : 'category'})"
   ]
  },
  {
   "cell_type": "code",
   "execution_count": 9,
   "id": "brazilian-shareware",
   "metadata": {},
   "outputs": [
    {
     "data": {
      "text/plain": [
       "GENDER          category\n",
       "ETHN            category\n",
       "WPOTAALLV       category\n",
       "WPOTAALTV       category\n",
       "ADV_TEACH       category\n",
       "ADV_TEST        category\n",
       "ADV_FINAL       category\n",
       "LEVEL3          category\n",
       "WOZ              float64\n",
       "PERCBESTINKO     float64\n",
       "OPLNIVMA        category\n",
       "OPLNIVPA        category\n",
       "SECMMA          category\n",
       "SECMPA          category\n",
       "dtype: object"
      ]
     },
     "execution_count": 9,
     "metadata": {},
     "output_type": "execute_result"
    }
   ],
   "source": [
    "df_clean_2.dtypes"
   ]
  },
  {
   "cell_type": "code",
   "execution_count": 12,
   "id": "third-accent",
   "metadata": {},
   "outputs": [],
   "source": [
    "# takes around 15 min.\n",
    "kernelMeanMatch = mf.MultipleImputedKernel(df_clean_2, datasets=5, save_all_iterations=True, random_state=42, mean_match_candidates=5)\n",
    "kernelMeanMatch.mice(5)\n",
    "\n",
    "new_data = kernelMeanMatch.complete_data(0)\n",
    "new_data.reset_index(drop=True, inplace=True)\n",
    "df_stats.reset_index(drop=True, inplace=True)\n",
    "new_data = pd.concat([new_data, df_stats], axis=1)\n",
    "new_data.to_csv('../output/out1.csv')\n",
    "\n",
    "new_data1 = kernelMeanMatch.complete_data(1)\n",
    "new_data1.reset_index(drop=True, inplace=True)\n",
    "new_data1 = pd.concat([new_data1, df_stats], axis=1)\n",
    "new_data1.to_csv('../output/out2.csv')\n",
    "\n",
    "new_data2 = kernelMeanMatch.complete_data(2)\n",
    "new_data2.reset_index(drop=True, inplace=True)\n",
    "new_data2 = pd.concat([new_data2, df_stats], axis=1)\n",
    "new_data2.to_csv('../output/out3.csv')\n",
    "\n",
    "new_data3 = kernelMeanMatch.complete_data(3)\n",
    "new_data3.reset_index(drop=True, inplace=True)\n",
    "new_data3 = pd.concat([new_data3, df_stats], axis=1)\n",
    "new_data3.to_csv('../output/out4.csv')\n",
    "\n",
    "new_data4 = kernelMeanMatch.complete_data(4)\n",
    "new_data4.reset_index(drop=True, inplace=True)\n",
    "new_data4 = pd.concat([new_data4, df_stats], axis=1)\n",
    "new_data4.to_csv('../output/out5.csv')"
   ]
  },
  {
   "cell_type": "code",
   "execution_count": 13,
   "id": "jewish-developer",
   "metadata": {},
   "outputs": [
    {
     "name": "stdout",
     "output_type": "stream",
     "text": [
      "              Class: MultipleImputedKernel\n",
      "       Models Saved: Last Iteration\n",
      "           Datasets: 5\n",
      "         Iterations: 5\n",
      "  Imputed Variables: 2\n",
      "save_all_iterations: True\n",
      "numerical vars:\n",
      "[]\n",
      "categorical vars:\n",
      "['OPLNIVMA', 'OPLNIVPA']\n"
     ]
    }
   ],
   "source": [
    "#print results\n",
    "print(kernelMeanMatch)\n",
    "print(\"numerical vars:\")\n",
    "print(kernelMeanMatch._get_num_vars())\n",
    "print(\"categorical vars:\")\n",
    "print(kernelMeanMatch._get_cat_vars())"
   ]
  },
  {
   "cell_type": "code",
   "execution_count": 14,
   "id": "short-burns",
   "metadata": {},
   "outputs": [],
   "source": [
    "#only numerical variables\n",
    "# kernelMeanMatch.plot_imputed_distributions(wspace=0.5, hspace=0.7)"
   ]
  },
  {
   "cell_type": "code",
   "execution_count": 15,
   "id": "special-powell",
   "metadata": {},
   "outputs": [],
   "source": [
    "# kernelMeanMatch.plot_correlations()"
   ]
  },
  {
   "cell_type": "code",
   "execution_count": 16,
   "id": "young-johnston",
   "metadata": {},
   "outputs": [],
   "source": [
    "# kernelMeanMatch.plot_mean_convergence(wspace=0.5, hspace=0.7)"
   ]
  },
  {
   "cell_type": "code",
   "execution_count": 1,
   "id": "worthy-manner",
   "metadata": {},
   "outputs": [],
   "source": [
    "fig = kernelMeanMatch.plot_feature_importance(annot=False, cmap=\"Binary\", vmin=0, vmax=1)"
   ]
  },
  {
   "cell_type": "code",
   "execution_count": 127,
   "id": "exceptional-photography",
   "metadata": {},
   "outputs": [],
   "source": [
    "df = pd.read_csv(cwd + \"/../output/out.csv\", index_col=0)\n",
    "new_data = pd.read_csv(cwd + \"/../output/out1.csv\", index_col=0)\n",
    "new_data1 = pd.read_csv(cwd + \"/../output/out2.csv\", index_col=0)\n",
    "new_data2 = pd.read_csv(cwd + \"/../output/out3.csv\", index_col=0)\n",
    "new_data3 = pd.read_csv(cwd + \"/../output/out4.csv\", index_col=0)\n",
    "new_data4 = pd.read_csv(cwd + \"/../output/out5.csv\", index_col=0)"
   ]
  },
  {
   "cell_type": "code",
   "execution_count": 2,
   "id": "floating-motion",
   "metadata": {},
   "outputs": [],
   "source": [
    "df[\"dataset\"] = 'Original data'\n",
    "new_data[\"dataset\"] = 'Dataset 1'\n",
    "new_data1[\"dataset\"] = 'Dataset 2'\n",
    "new_data2[\"dataset\"] = 'Dataset 3'\n",
    "new_data3[\"dataset\"] = 'Dataset 4'\n",
    "new_data4[\"dataset\"] = 'Dataset 5'\n",
    "\n",
    "data=pd.concat([df[[\"OPLNIVMA\", \"OPLNIVPA\", \"dataset\"]], new_data[[\"OPLNIVMA\", \"OPLNIVPA\", \"dataset\"]], new_data1[[\"OPLNIVMA\", \"OPLNIVPA\", \"dataset\"]], new_data2[[\"OPLNIVMA\", \"OPLNIVPA\", \"dataset\"]], new_data3[[\"OPLNIVMA\", \"OPLNIVPA\", \"dataset\"]], new_data4[[\"OPLNIVMA\", \"OPLNIVPA\", \"dataset\"]]], keys=['Original data', 'dataset 1', 'dataset 2', 'dataset 3', 'dataset 4', 'dataset 5'], names=['Dataset', 'index'])\n",
    "print(data)"
   ]
  },
  {
   "cell_type": "code",
   "execution_count": 129,
   "id": "focused-matrix",
   "metadata": {},
   "outputs": [
    {
     "data": {
      "image/png": "[encoded data removed]",
      "text/plain": [
       "<Figure size 1800x504 with 2 Axes>"
      ]
     },
     "metadata": {
      "needs_background": "light"
     },
     "output_type": "display_data"
    }
   ],
   "source": [
    "fig, (ax1, ax2) = plt.subplots(1, 2, figsize=(25,7))\n",
    "ax1 = sns.countplot(x=\"OPLNIVMA\", hue=\"dataset\", ax=ax1, data=data, palette=\"binary_r\")\n",
    "ax2 = sns.countplot(x=\"OPLNIVPA\", hue=\"dataset\", ax=ax2, data=data, palette=\"binary_r\")\n",
    "\n",
    "ax1.set_xlabel('Education level mother')\n",
    "ax2.set_xlabel('Education level father')\n",
    "ax1.set_xticklabels(('Primary\\neducation', 'vmbo-b/\\nvmbo-k/\\nmbo-1', 'vmbo-g/\\nvmbo-t/\\njunior classes havo/\\njunior classes vwo', 'mbo-2/\\nmbo-3', 'mbo-4', 'havo/\\nvwo', 'hbo bachelor/\\nwo bachelor', 'hbo master/\\nwo master/\\ndoctor'))\n",
    "ax2.set_xticklabels(('Primary\\neducation', 'vmbo-b/\\nvmbo-k/\\nmbo-1', 'vmbo-g/\\nvmbo-t/\\njunior classes havo/\\njunior classes vwo', 'mbo-2/\\nmbo-3', 'mbo-4', 'havo/\\nvwo', 'hbo bachelor/\\nwo bachelor', 'hbo master/\\nwo master/\\ndoctor'))\n",
    "ax1.set_ylabel('Amount')\n",
    "ax2.set_ylabel('Amount')\n",
    "\n",
    "fig.savefig(\"../output/res_imputation.pdf\")"
   ]
  }
 ],
 "metadata": {
  "kernelspec": {
   "display_name": "Python [conda env:secibts@cbsp.nl-test36]",
   "language": "python",
   "name": "conda-env-secibts_cbsp.nl-test36-py"
  },
  "language_info": {
   "codemirror_mode": {
    "name": "ipython",
    "version": 3
   },
   "file_extension": ".py",
   "mimetype": "text/x-python",
   "name": "python",
   "nbconvert_exporter": "python",
   "pygments_lexer": "ipython3",
   "version": "3.6.13"
  }
 },
 "nbformat": 4,
 "nbformat_minor": 5
}
