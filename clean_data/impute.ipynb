{
 "cells": [
  {
   "cell_type": "code",
   "execution_count": 1,
   "id": "passive-banking",
   "metadata": {},
   "outputs": [],
   "source": [
    "import pandas as pd\n",
    "import numpy as np\n",
    "import matplotlib.pyplot as plt\n",
    "import scipy\n",
    "import plotly.express as px\n",
    "import plotly\n",
    "import os\n",
    "import sys\n",
    "import seaborn as sns\n",
    "import sklearn as sk\n",
    "import miceforest as mf\n",
    "\n",
    "pd.set_option('max_columns', 999)\n",
    "pd.set_option('max_rows', 20)\n",
    "cwd = os.getcwd()"
   ]
  },
  {
   "cell_type": "code",
   "execution_count": 10,
   "id": "convenient-smooth",
   "metadata": {},
   "outputs": [],
   "source": [
    "# load original dataframe with NaNs in oplnivma and oplnivpa and stats\n",
    "df = pd.read_csv(cwd + \"/../output/out.csv\", index_col=0)\n",
    "print(df.head())\n",
    "df_stats= pd.read_csv(cwd + \"/../output/df_stats.csv\", index_col=0)\n",
    "print(df_stats.head())"
   ]
  },
  {
   "cell_type": "code",
   "execution_count": 4,
   "id": "invisible-roads",
   "metadata": {},
   "outputs": [
    {
     "name": "stdout",
     "output_type": "stream",
     "text": [
      "GENDER              0\n",
      "ETHN                0\n",
      "WPOTAALLV           0\n",
      "WPOTAALTV           0\n",
      "ADV_TEACH           0\n",
      "ADV_TEST            0\n",
      "ADV_FINAL           0\n",
      "LEVEL3              0\n",
      "WOZ                 0\n",
      "PERCBESTINKO        0\n",
      "OPLNIVMA        51458\n",
      "OPLNIVPA        66973\n",
      "SECMMA              0\n",
      "SECMPA              0\n",
      "dtype: int64\n",
      "(297035, 14)\n"
     ]
    }
   ],
   "source": [
    "print(df.isna().sum())\n",
    "print(df.shape)"
   ]
  },
  {
   "cell_type": "code",
   "execution_count": 5,
   "id": "artistic-survival",
   "metadata": {},
   "outputs": [
    {
     "name": "stdout",
     "output_type": "stream",
     "text": [
      "0    178604\n",
      "1    118431\n",
      "dtype: int64\n"
     ]
    }
   ],
   "source": [
    "print(df.loc[:, ['OPLNIVMA', 'OPLNIVPA']].isna().sum(axis=1).value_counts())"
   ]
  },
  {
   "cell_type": "code",
   "execution_count": 6,
   "id": "successful-baseball",
   "metadata": {},
   "outputs": [
    {
     "name": "stdout",
     "output_type": "stream",
     "text": [
      "OPLNIVMA    0.173239\n",
      "dtype: float64\n",
      "OPLNIVPA    0.225472\n",
      "dtype: float64\n",
      "0.39871100000000004\n"
     ]
    }
   ],
   "source": [
    "print(df.loc[:, ['OPLNIVMA']].isna().sum()/df.shape[0])\n",
    "print(df.loc[:, ['OPLNIVPA']].isna().sum()/df.shape[0])\n",
    "print(0.173239 + 0.225472)"
   ]
  },
  {
   "cell_type": "code",
   "execution_count": 7,
   "id": "dependent-vault",
   "metadata": {},
   "outputs": [],
   "source": [
    "df_clean_2 = df.copy()"
   ]
  },
  {
   "cell_type": "code",
   "execution_count": 8,
   "id": "dependent-lancaster",
   "metadata": {},
   "outputs": [],
   "source": [
    "df_clean_2 = df_clean_2.astype({'OPLNIVMA': 'category', 'OPLNIVPA' : 'category', 'SECMMA': 'category', 'SECMPA': 'category', 'GENDER' : 'category', 'ETHN' : 'category', 'WPOTAALLV' : 'category', 'WPOTAALTV' : 'category', 'ADV_TEACH' : 'category', 'ADV_TEST' : 'category', 'ADV_FINAL' : 'category', 'LEVEL3' : 'category'})"
   ]
  },
  {
   "cell_type": "code",
   "execution_count": 9,
   "id": "portuguese-wagner",
   "metadata": {},
   "outputs": [
    {
     "data": {
      "text/plain": [
       "GENDER          category\n",
       "ETHN            category\n",
       "WPOTAALLV       category\n",
       "WPOTAALTV       category\n",
       "ADV_TEACH       category\n",
       "ADV_TEST        category\n",
       "ADV_FINAL       category\n",
       "LEVEL3          category\n",
       "WOZ              float64\n",
       "PERCBESTINKO     float64\n",
       "OPLNIVMA        category\n",
       "OPLNIVPA        category\n",
       "SECMMA          category\n",
       "SECMPA          category\n",
       "dtype: object"
      ]
     },
     "execution_count": 9,
     "metadata": {},
     "output_type": "execute_result"
    }
   ],
   "source": [
    "df_clean_2.dtypes"
   ]
  },
  {
   "cell_type": "code",
   "execution_count": 12,
   "id": "vietnamese-investment",
   "metadata": {},
   "outputs": [],
   "source": [
    "# 14:11 start -> 14:23\n",
    "kernelMeanMatch = mf.MultipleImputedKernel(df_clean_2, datasets=5, save_all_iterations=True, random_state=42, mean_match_candidates=5)\n",
    "kernelMeanMatch.mice(5)\n",
    "\n",
    "new_data = kernelMeanMatch.complete_data(0)\n",
    "new_data.reset_index(drop=True, inplace=True)\n",
    "df_stats.reset_index(drop=True, inplace=True)\n",
    "new_data = pd.concat([new_data, df_stats], axis=1)\n",
    "new_data.to_csv('../output/out1.csv')\n",
    "\n",
    "new_data1 = kernelMeanMatch.complete_data(1)\n",
    "new_data1.reset_index(drop=True, inplace=True)\n",
    "new_data1 = pd.concat([new_data1, df_stats], axis=1)\n",
    "new_data1.to_csv('../output/out2.csv')\n",
    "\n",
    "new_data2 = kernelMeanMatch.complete_data(2)\n",
    "new_data2.reset_index(drop=True, inplace=True)\n",
    "new_data2 = pd.concat([new_data2, df_stats], axis=1)\n",
    "new_data2.to_csv('../output/out3.csv')\n",
    "\n",
    "new_data3 = kernelMeanMatch.complete_data(3)\n",
    "new_data3.reset_index(drop=True, inplace=True)\n",
    "new_data3 = pd.concat([new_data3, df_stats], axis=1)\n",
    "new_data3.to_csv('../output/out4.csv')\n",
    "\n",
    "new_data4 = kernelMeanMatch.complete_data(4)\n",
    "new_data4.reset_index(drop=True, inplace=True)\n",
    "new_data4 = pd.concat([new_data4, df_stats], axis=1)\n",
    "new_data4.to_csv('../output/out5.csv')"
   ]
  },
  {
   "cell_type": "code",
   "execution_count": 13,
   "id": "structured-latex",
   "metadata": {},
   "outputs": [
    {
     "name": "stdout",
     "output_type": "stream",
     "text": [
      "              Class: MultipleImputedKernel\n",
      "       Models Saved: Last Iteration\n",
      "           Datasets: 5\n",
      "         Iterations: 5\n",
      "  Imputed Variables: 2\n",
      "save_all_iterations: True\n",
      "numerical vars:\n",
      "[]\n",
      "categorical vars:\n",
      "['OPLNIVMA', 'OPLNIVPA']\n"
     ]
    }
   ],
   "source": [
    "#print results\n",
    "print(kernelMeanMatch)\n",
    "print(\"numerical vars:\")\n",
    "print(kernelMeanMatch._get_num_vars())\n",
    "print(\"categorical vars:\")\n",
    "print(kernelMeanMatch._get_cat_vars())"
   ]
  },
  {
   "cell_type": "code",
   "execution_count": 14,
   "id": "attractive-corner",
   "metadata": {},
   "outputs": [],
   "source": [
    "#only numerical variables\n",
    "# kernelMeanMatch.plot_imputed_distributions(wspace=0.5, hspace=0.7)"
   ]
  },
  {
   "cell_type": "code",
   "execution_count": 15,
   "id": "meaningful-values",
   "metadata": {},
   "outputs": [],
   "source": [
    "# kernelMeanMatch.plot_correlations()"
   ]
  },
  {
   "cell_type": "code",
   "execution_count": 16,
   "id": "reflected-tunnel",
   "metadata": {},
   "outputs": [],
   "source": [
    "# kernelMeanMatch.plot_mean_convergence(wspace=0.5, hspace=0.7)"
   ]
  },
  {
   "cell_type": "code",
   "execution_count": 19,
   "id": "electric-steering",
   "metadata": {},
   "outputs": [
    {
     "name": "stdout",
     "output_type": "stream",
     "text": [
      "AxesSubplot(0.125,0.125;0.62x0.755)\n"
     ]
    },
    {
     "data": {
      "image/png": "[encoded data removed]",
      "text/plain": [
       "<Figure size 432x288 with 2 Axes>"
      ]
     },
     "metadata": {
      "needs_background": "light"
     },
     "output_type": "display_data"
    }
   ],
   "source": [
    "fig = kernelMeanMatch.plot_feature_importance(annot=False, cmap=\"Blues\", vmin=0, vmax=1)"
   ]
  },
  {
   "cell_type": "code",
   "execution_count": 12,
   "id": "mature-rendering",
   "metadata": {},
   "outputs": [],
   "source": [
    "fig, (ax1, ax2, ax3, ax4, ax5, ax6) = plt.subplots(1, 6, figsize=(35, 6))\n",
    "sns.countplot(x=\"value\", hue=\"variable\", data=pd.melt(df[[\"OPLNIVMA\", \"OPLNIVPA\"]]), ax=ax1)\n",
    "sns.countplot(x=\"value\", hue=\"variable\", data=pd.melt(new_data[[\"OPLNIVMA\", \"OPLNIVPA\"]]), ax=ax2)\n",
    "sns.countplot(x=\"value\", hue=\"variable\", data=pd.melt(new_data1[[\"OPLNIVMA\", \"OPLNIVPA\"]]), ax=ax3)\n",
    "sns.countplot(x=\"value\", hue=\"variable\", data=pd.melt(new_data2[[\"OPLNIVMA\", \"OPLNIVPA\"]]), ax=ax4)\n",
    "sns.countplot(x=\"value\", hue=\"variable\", data=pd.melt(new_data3[[\"OPLNIVMA\", \"OPLNIVPA\"]]), ax=ax5)\n",
    "sns.countplot(x=\"value\", hue=\"variable\", data=pd.melt(new_data4[[\"OPLNIVMA\", \"OPLNIVPA\"]]), ax=ax6)\n",
    "\n",
    "fig.savefig(\"../output/res_imputation.png\")"
   ]
  }
 ],
 "metadata": {
  "kernelspec": {
   "display_name": "Python [conda env:secibts@cbsp.nl-test36]",
   "language": "python",
   "name": "conda-env-secibts_cbsp.nl-test36-py"
  },
  "language_info": {
   "codemirror_mode": {
    "name": "ipython",
    "version": 3
   },
   "file_extension": ".py",
   "mimetype": "text/x-python",
   "name": "python",
   "nbconvert_exporter": "python",
   "pygments_lexer": "ipython3",
   "version": "3.6.13"
  }
 },
 "nbformat": 4,
 "nbformat_minor": 5
}
